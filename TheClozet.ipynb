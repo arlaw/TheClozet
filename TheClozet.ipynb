{
 "metadata": {
  "name": ""
 },
 "nbformat": 3,
 "nbformat_minor": 0,
 "worksheets": [
  {
   "cells": [
    {
     "cell_type": "code",
     "collapsed": false,
     "input": [
      "import urllib\n",
      "import mechanize\n",
      "import BeautifulSoup\n",
      "from urlparse import urlparse"
     ],
     "language": "python",
     "metadata": {},
     "outputs": [],
     "prompt_number": 41
    },
    {
     "cell_type": "code",
     "collapsed": false,
     "input": [
      "weather_data = urlgrabber.urlread('http://www.google.com/search?q=weather')\n",
      "temp_data_key = 'class=\"wob_t\"'\n",
      "temp_data_pos = weather_data.find(temp_data_key)\n",
      "temp = weather_data[temp_data_pos:].split('>')[1].split('<')[0]\n",
      "degree = temp.find('F')-1\n",
      "temp = int(temp[:degree])"
     ],
     "language": "python",
     "metadata": {},
     "outputs": [],
     "prompt_number": 47
    },
    {
     "cell_type": "code",
     "collapsed": false,
     "input": [
      "if (temp > 58):\n",
      "    print \"Wear shorts\"\n",
      "else:\n",
      "    print \"Wear pants\""
     ],
     "language": "python",
     "metadata": {},
     "outputs": [
      {
       "output_type": "stream",
       "stream": "stdout",
       "text": [
        "Wear pants\n"
       ]
      }
     ],
     "prompt_number": 48
    },
    {
     "cell_type": "code",
     "collapsed": false,
     "input": [
      "def getPic(keyword):\n",
      "    try:\n",
      "        browser = mechanize.Browser()\n",
      "        browser.set_handle_robots(False)\n",
      "        browser.addheaders = [('User-agent','Mozilla')]\n",
      "        \n",
      "        htmltext = browser.open('https://www.google.com/search?q=images+' + keyword)\n",
      "        print htmltext\n",
      "        soup = BeautifulSoup(htmltext)\n",
      "        results = soup.findAll(\"a\")\n",
      "        print results\n",
      "    except:\n",
      "        print \"error\"\n"
     ],
     "language": "python",
     "metadata": {},
     "outputs": [],
     "prompt_number": 45
    },
    {
     "cell_type": "code",
     "collapsed": false,
     "input": [
      "getPic(\"pants\")"
     ],
     "language": "python",
     "metadata": {},
     "outputs": [
      {
       "output_type": "stream",
       "stream": "stdout",
       "text": [
        "<response_seek_wrapper at 0x7fa5262a6908 whose wrapped object = <closeable_response at 0x7fa5262a6680 whose fp = <socket._fileobject object at 0x7fa5261117d0>>>\n",
        "error\n"
       ]
      }
     ],
     "prompt_number": 46
    }
   ],
   "metadata": {}
  }
 ]
}